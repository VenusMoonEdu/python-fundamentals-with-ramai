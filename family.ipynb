{
  "metadata": {
    "kernelspec": {
      "name": "python",
      "display_name": "Python (Pyodide)",
      "language": "python"
    },
    "language_info": {
      "codemirror_mode": {
        "name": "python",
        "version": 3
      },
      "file_extension": ".py",
      "mimetype": "text/x-python",
      "name": "python",
      "nbconvert_exporter": "python",
      "pygments_lexer": "ipython3",
      "version": "3.8"
    }
  },
  "nbformat_minor": 5,
  "nbformat": 4,
  "cells": [
    {
      "id": "05b4df29-2b58-4f14-99ab-4c12ce65699a",
      "cell_type": "code",
      "source": "print(\"My Family\")\n",
      "metadata": {
        "trusted": true
      },
      "outputs": [
        {
          "name": "stdout",
          "output_type": "stream",
          "text": "My Family\n"
        }
      ],
      "execution_count": 2
    },
    {
      "id": "37881a88-84b7-46f4-99a0-8926ac4c722f",
      "cell_type": "markdown",
      "source": "## Exercise: Print Your Family Members' Names\n\nIn the cells below, try writing and executing different `print()` statements to display the names of your family members.",
      "metadata": {}
    },
    {
      "id": "3489239a-c826-44ed-8422-908ba29beb6a",
      "cell_type": "code",
      "source": "",
      "metadata": {
        "trusted": true
      },
      "outputs": [],
      "execution_count": null
    },
    {
      "id": "08b93329-9dc0-41e0-8064-19798ac35184",
      "cell_type": "code",
      "source": "",
      "metadata": {
        "trusted": true
      },
      "outputs": [],
      "execution_count": null
    }
  ]
}