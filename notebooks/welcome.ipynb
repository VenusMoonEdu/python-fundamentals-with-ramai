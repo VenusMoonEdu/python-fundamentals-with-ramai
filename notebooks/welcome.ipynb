{
  "metadata": {
    "kernelspec": {
      "name": "python",
      "display_name": "Python (Pyodide)",
      "language": "python"
    },
    "language_info": {
      "codemirror_mode": {
        "name": "python",
        "version": 3
      },
      "file_extension": ".py",
      "mimetype": "text/x-python",
      "name": "python",
      "nbconvert_exporter": "python",
      "pygments_lexer": "ipython3",
      "version": "3.8"
    }
  },
  "nbformat_minor": 5,
  "nbformat": 4,
  "cells": [
    {
      "id": "90e8dee5-4eb3-45ec-af7c-319ddf68fdeb",
      "cell_type": "markdown",
      "source": "# Welcome\n\nWelcome to Jupyter interactive coding environment!  \nThis is a web-based type-and-run coding platform.  \nWhat we have written above is called **Markdown**, which you can use to describe or add headings in your notebook.\n\nThe container below with the `print` statement is called a **cell**.  \nYou can execute it by selecting the cell and pressing **Shift + Return** (or **Shift + Enter**).  \nYou can also draw graphs and attach images in this notebook.",
      "metadata": {}
    },
    {
      "id": "5cd28dfb-1305-446a-b436-fbac28a420e8",
      "cell_type": "code",
      "source": "print(\"Hello, I welcome you to this course Python\")",
      "metadata": {
        "trusted": true
      },
      "outputs": [],
      "execution_count": null
    },
    {
      "id": "ace64013-a88c-4334-8c91-5c27b1ff41ce",
      "cell_type": "markdown",
      "source": "Initially, there is no number inside the [] next to the cell. When you run the cell for the first time, you will see 1 appear, and next time you'll see 2, and so on.\nIn the cells below, try writing more print statements and run them!",
      "metadata": {}
    },
    {
      "id": "b2c54418-c82a-4236-9710-d1b0727984e9",
      "cell_type": "code",
      "source": "",
      "metadata": {
        "trusted": true
      },
      "outputs": [],
      "execution_count": null
    },
    {
      "id": "35337641-f612-48f8-a164-0a993bfbdfcd",
      "cell_type": "code",
      "source": "",
      "metadata": {
        "trusted": true
      },
      "outputs": [],
      "execution_count": null
    },
    {
      "id": "5d198112-67d7-4c52-8ac7-82becc108c14",
      "cell_type": "code",
      "source": "",
      "metadata": {
        "trusted": true
      },
      "outputs": [],
      "execution_count": null
    }
  ]
}