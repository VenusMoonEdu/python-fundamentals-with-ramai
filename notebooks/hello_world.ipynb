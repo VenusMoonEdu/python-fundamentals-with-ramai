{
  "metadata": {
    "kernelspec": {
      "name": "python",
      "display_name": "Python (Pyodide)",
      "language": "python"
    },
    "language_info": {
      "codemirror_mode": {
        "name": "python",
        "version": 3
      },
      "file_extension": ".py",
      "mimetype": "text/x-python",
      "name": "python",
      "nbconvert_exporter": "python",
      "pygments_lexer": "ipython3",
      "version": "3.8"
    }
  },
  "nbformat_minor": 5,
  "nbformat": 4,
  "cells": [
    {
      "id": "3cb3a2dd-b5b2-4731-82ae-691f3f02731a",
      "cell_type": "code",
      "source": "print(\"Hello, world\")",
      "metadata": {
        "trusted": true,
        "scrolled": true
      },
      "outputs": [
        {
          "name": "stdout",
          "output_type": "stream",
          "text": "Hello, world\n"
        }
      ],
      "execution_count": 4
    },
    {
      "id": "6aab7ee0-b299-4f71-8615-4cd808198853",
      "cell_type": "markdown",
      "source": "Run the above code by pressing **Shift + Enter** on Windows or **Shift + Return** on Mac.  \n\nAlternatively, you can also click the little **▸** icon above to run the code.\nRun these codes:",
      "metadata": {}
    },
    {
      "id": "94642bae-2b0b-4044-b5b7-d1c6b37d7ecf",
      "cell_type": "code",
      "source": "print(\"Hi! My name is Pulkit\")",
      "metadata": {
        "trusted": true
      },
      "outputs": [],
      "execution_count": null
    },
    {
      "id": "3b519402-4055-46f6-be19-83d35bbda018",
      "cell_type": "code",
      "source": "print(\"Happy Holi!\")",
      "metadata": {
        "trusted": true
      },
      "outputs": [],
      "execution_count": null
    },
    {
      "id": "d2b63f2f-f9dd-4c84-a70a-d8bf6d676e32",
      "cell_type": "code",
      "source": "print(\"I'm learning Python 😀\")",
      "metadata": {
        "trusted": true
      },
      "outputs": [],
      "execution_count": null
    },
    {
      "id": "a83d46e1-fc7d-4f0e-bd4f-801dba26e451",
      "cell_type": "markdown",
      "source": "On the left side of this notebook window, you may see various notebooks like `family.ipynb`. If not, click the folder icon in the top left of this window 🗂️🗂️. Try clicking `family.ipynb` to see more exciting things. Similarly, you can explore all the `.ipynb` files for exercises and homework.\n\nBy the way, `ipynb` stands for \"Interactive Python Notebook,\" and it is the file extension for notebooks created with Jupyter Notebook.\n",
      "metadata": {}
    },
    {
      "id": "bd3d12d4-80d4-4b27-8018-8fb0ebc6cd2a",
      "cell_type": "code",
      "source": "",
      "metadata": {
        "trusted": true
      },
      "outputs": [],
      "execution_count": null
    }
  ]
}