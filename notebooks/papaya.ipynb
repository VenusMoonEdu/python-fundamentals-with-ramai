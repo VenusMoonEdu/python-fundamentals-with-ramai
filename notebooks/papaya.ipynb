{
  "metadata": {
    "kernelspec": {
      "name": "javascript",
      "display_name": "JavaScript (Web Worker)",
      "language": "javascript"
    },
    "language_info": {
      "codemirror_mode": {
        "name": "javascript"
      },
      "file_extension": ".js",
      "mimetype": "text/javascript",
      "name": "javascript",
      "nbconvert_exporter": "javascript",
      "pygments_lexer": "javascript",
      "version": "es2017"
    },
    "toc-showcode": true
  },
  "nbformat_minor": 4,
  "nbformat": 4,
  "cells": [
    {
      "cell_type": "markdown",
      "source": "# Common Errors\n\n",
      "metadata": {}
    },
    {
      "cell_type": "markdown",
      "source": "## Experiment with Mistakes\n\nLet’s intentionally make some mistakes and see what happens!\n\nWhat if you forget to type the ending quotation mark (`\"`)?\n\nLet’s try this in the notebook.\n",
      "metadata": {}
    },
    {
      "cell_type": "code",
      "source": "print(\"Hello, world)",
      "metadata": {
        "trusted": true
      },
      "outputs": [
        {
          "ename": "SyntaxError",
          "evalue": "Invalid or unexpected token",
          "traceback": [
            "SyntaxError: Invalid or unexpected token\n    at eval (<anonymous>)\n    at Object.execute (https://jupyterlite.github.io/demo/extensions/@jupyterlite/javascript-kernel-extension/static/584.7e49152bd31ca0f8291b.js?v=7e49152bd31ca0f8291b:2:13351)\n    at o (https://jupyterlite.github.io/demo/extensions/@jupyterlite/javascript-kernel-extension/static/584.7e49152bd31ca0f8291b.js?v=7e49152bd31ca0f8291b:2:10215)"
          ],
          "output_type": "error"
        }
      ],
      "execution_count": 1
    },
    {
      "cell_type": "markdown",
      "source": "You get a SyntaxError with some messages.",
      "metadata": {}
    },
    {
      "cell_type": "markdown",
      "source": "What if you forget one or both parentheses in your `print()` statement?\n\nFor example, try these in your notebook:",
      "metadata": {}
    },
    {
      "cell_type": "code",
      "source": "# Missing the closing parenthesis:\nprint(\"Hello, world!\"",
      "metadata": {
        "trusted": true
      },
      "outputs": [],
      "execution_count": null
    },
    {
      "cell_type": "code",
      "source": "# Or missing both parentheses:\nprint \"Hello, world!\"",
      "metadata": {
        "trusted": true
      },
      "outputs": [],
      "execution_count": null
    },
    {
      "cell_type": "markdown",
      "source": "## Experiment:\n\nWhat if you mistakenly type `pint(\"Hello, world\")` instead of `print(\"Hello, world\")`?\n\nTry this:",
      "metadata": {}
    },
    {
      "cell_type": "code",
      "source": "pint(\"Hello, world\")",
      "metadata": {
        "trusted": true
      },
      "outputs": [],
      "execution_count": null
    },
    {
      "cell_type": "code",
      "source": "",
      "metadata": {
        "trusted": true
      },
      "outputs": [],
      "execution_count": null
    }
  ]
}